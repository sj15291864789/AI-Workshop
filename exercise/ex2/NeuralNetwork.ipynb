{
 "cells": [
  {
   "cell_type": "markdown",
   "metadata": {},
   "source": [
    "Turn the logistic regression example with SGD into a 1-hidden layer neural network with rectified linear units [nn.relu()](https://www.tensorflow.org/versions/r0.7/api_docs/python/nn.html#relu) and 1024 hidden nodes. This model should improve your validation / test accuracy."
   ]
  },
  {
   "cell_type": "code",
   "execution_count": 1,
   "metadata": {
    "collapsed": true
   },
   "outputs": [],
   "source": [
    "# These are all the modules we'll be using later. Make sure you can import them\n",
    "# before proceeding further.\n",
    "from __future__ import print_function\n",
    "import numpy as np\n",
    "import tensorflow as tf\n",
    "from six.moves import cPickle as pickle\n",
    "from six.moves import range"
   ]
  },
  {
   "cell_type": "markdown",
   "metadata": {},
   "source": [
    "First reload the data we generated in `1_notmnist.ipynb`."
   ]
  },
  {
   "cell_type": "code",
   "execution_count": 2,
   "metadata": {
    "collapsed": false
   },
   "outputs": [
    {
     "name": "stdout",
     "output_type": "stream",
     "text": [
      "Training set (20000, 28, 28) (20000,)\n",
      "Validation set (1000, 28, 28) (1000,)\n",
      "Test set (1000, 28, 28) (1000,)\n"
     ]
    }
   ],
   "source": [
    "pickle_file = '../data/notMNIST.pickle'\n",
    "\n",
    "with open(pickle_file, 'rb') as f:\n",
    "  save = pickle.load(f)\n",
    "  train_dataset = save['train_dataset']\n",
    "  train_labels = save['train_labels']\n",
    "  valid_dataset = save['valid_dataset']\n",
    "  valid_labels = save['valid_labels']\n",
    "  test_dataset = save['test_dataset']\n",
    "  test_labels = save['test_labels']\n",
    "  del save  # hint to help gc free up memory\n",
    "  print('Training set', train_dataset.shape, train_labels.shape)\n",
    "  print('Validation set', valid_dataset.shape, valid_labels.shape)\n",
    "  print('Test set', test_dataset.shape, test_labels.shape)"
   ]
  },
  {
   "cell_type": "markdown",
   "metadata": {},
   "source": [
    "**Reshape THE IMAGE TO 1-D vector.**"
   ]
  },
  {
   "cell_type": "code",
   "execution_count": 3,
   "metadata": {
    "collapsed": false
   },
   "outputs": [
    {
     "name": "stdout",
     "output_type": "stream",
     "text": [
      "Training set (20000, 784) (20000, 10)\n",
      "Validation set (1000, 784) (1000, 10)\n",
      "Test set (1000, 784) (1000, 10)\n"
     ]
    }
   ],
   "source": [
    "image_size = 28\n",
    "num_labels = 10\n",
    "\n",
    "def reformat(dataset, labels):\n",
    "  dataset = dataset.reshape((-1, image_size * image_size)).astype(np.float32)\n",
    "  # Map 0 to [1.0, 0.0, 0.0 ...], 1 to [0.0, 1.0, 0.0 ...]\n",
    "  labels = (np.arange(num_labels) == labels[:,None]).astype(np.float32)\n",
    "  return dataset, labels\n",
    "train_dataset, train_labels = reformat(train_dataset, train_labels)\n",
    "valid_dataset, valid_labels = reformat(valid_dataset, valid_labels)\n",
    "test_dataset, test_labels = reformat(test_dataset, test_labels)\n",
    "print('Training set', train_dataset.shape, train_labels.shape)\n",
    "print('Validation set', valid_dataset.shape, valid_labels.shape)\n",
    "print('Test set', test_dataset.shape, test_labels.shape)"
   ]
  },
  {
   "cell_type": "markdown",
   "metadata": {},
   "source": [
    "Build the computation graph.\n",
    "    - We will build neural network with one hidden layer and 1024 neurons in that hidden layer."
   ]
  },
  {
   "cell_type": "code",
   "execution_count": 161,
   "metadata": {
    "collapsed": true
   },
   "outputs": [],
   "source": [
    "batch_size = 128\n",
    "relu_counts = 1024\n",
    "graph = tf.Graph()\n",
    "with graph.as_default():\n",
    "#     Prepare the data\n",
    "    tf_train_dataset = tf.placeholder(tf.float32, shape=(batch_size, image_size*image_size))\n",
    "    tf_train_labels = tf.placeholder(tf.float32, shape=(batch_size, num_labels))\n",
    "    \n",
    "    tf_valid_dataset = tf.constant(valid_dataset)\n",
    "    tf_test_dataset = tf.constant(test_dataset)\n",
    "    \n",
    "    weights = tf.Variable(\n",
    "        tf.truncated_normal([image_size*image_size, relu_counts]))\n",
    "    biases = tf.Variable(tf.zeros([relu_counts]))\n",
    "    \n",
    "    weights_two = tf.Variable(\n",
    "        tf.truncated_normal([relu_counts, num_labels]))\n",
    "    biases_two = tf.Variable(tf.zeros([num_labels]))\n",
    "    \n",
    "#     Construct relu neural network\n",
    "    logits = tf.matmul(tf_train_dataset, weights) + biases\n",
    "    \n",
    "    tf_layer_two_input = tf.nn.relu(logits)\n",
    "    \n",
    "    logits_layer_two = tf.matmul(tf_layer_two_input, weights_two) + biases_two\n",
    "    \n",
    "#     Define Loss Function\n",
    "    loss = tf.reduce_mean(\n",
    "        tf.nn.softmax_cross_entropy_with_logits(logits_layer_two, tf_train_labels))\n",
    "    \n",
    "#     Optimize the Loss function. set learning rate as 0.5\n",
    "    optimizer = tf.train.GradientDescentOptimizer(0.5).minimize(loss)\n",
    "    \n",
    "#     Use the relu neural network\n",
    "    train_prediction = tf.nn.softmax(logits_layer_two)\n",
    "    \n",
    "    valid_prediction = tf.nn.softmax(\n",
    "        tf.matmul(tf.nn.relu(tf.matmul(tf_valid_dataset, weights)+biases), weights_two)+biases_two)\n",
    "    \n",
    "    test_prediction = tf.nn.softmax(\n",
    "        tf.matmul(tf.nn.relu(tf.matmul(tf_test_dataset, weights)+biases), weights_two)+biases_two)"
   ]
  },
  {
   "cell_type": "markdown",
   "metadata": {},
   "source": [
    "Before we runt the training. Firstly, we set up standard for measuring the performance of our model. The Accuracy, in other word."
   ]
  },
  {
   "cell_type": "code",
   "execution_count": 4,
   "metadata": {
    "collapsed": true
   },
   "outputs": [],
   "source": [
    "def accuracy(predictions, labels):\n",
    "  return (100.0 * np.sum(np.argmax(predictions, 1) == np.argmax(labels, 1))\n",
    "          / predictions.shape[0])"
   ]
  },
  {
   "cell_type": "markdown",
   "metadata": {},
   "source": [
    "Run the computation and find out the accuracy of our neural network model."
   ]
  },
  {
   "cell_type": "code",
   "execution_count": 163,
   "metadata": {
    "collapsed": false,
    "scrolled": true
   },
   "outputs": [
    {
     "name": "stdout",
     "output_type": "stream",
     "text": [
      "Minibatch loss at step 0: 25.670992\n",
      "Minibatch accuracy: 10.2%\n",
      "Validation accuracy: 13.6%\n",
      "\n",
      "Minibatch loss at step 500: 1.486057\n",
      "Minibatch accuracy: 80.5%\n",
      "Validation accuracy: 60.6%\n",
      "\n",
      "Minibatch loss at step 1000: 0.504380\n",
      "Minibatch accuracy: 89.8%\n",
      "Validation accuracy: 55.0%\n",
      "\n",
      "Minibatch loss at step 1500: 0.238561\n",
      "Minibatch accuracy: 94.5%\n",
      "Validation accuracy: 54.5%\n",
      "\n",
      "Minibatch loss at step 2000: 0.148781\n",
      "Minibatch accuracy: 98.4%\n",
      "Validation accuracy: 50.3%\n",
      "\n",
      "Minibatch loss at step 2500: 0.034597\n",
      "Minibatch accuracy: 99.2%\n",
      "Validation accuracy: 51.1%\n",
      "\n",
      "Minibatch loss at step 3000: 0.020692\n",
      "Minibatch accuracy: 100.0%\n",
      "Validation accuracy: 50.5%\n",
      "\n",
      "\n",
      "Test accuracy: 55.5%\n"
     ]
    }
   ],
   "source": [
    "num_steps = 3001\n",
    "\n",
    "with(tf.Session(graph=graph)) as sess:\n",
    "    tf.initialize_all_variables().run()\n",
    "    for step in range(num_steps):\n",
    "        offset = (step * batch_size) % (train_labels.shape[0] - batch_size)\n",
    "        \n",
    "        batch_data = train_dataset[offset:(offset + batch_size), :]\n",
    "        batch_labels = train_labels[offset:(offset + batch_size), :]\n",
    "        feed_dict = {tf_train_dataset : batch_data, tf_train_labels : batch_labels}\n",
    "        \n",
    "        _, l, predictions = sess.run(\n",
    "          [optimizer, loss, train_prediction], feed_dict=feed_dict)\n",
    "        if (step % 500 == 0):\n",
    "          print(\"Minibatch loss at step %d: %f\" % (step, l))\n",
    "          print(\"Minibatch accuracy: %.1f%%\" % accuracy(predictions, batch_labels))\n",
    "          print(\"Validation accuracy: %.1f%%\\n\" % accuracy(\n",
    "            valid_prediction.eval(), valid_labels))\n",
    "    print()\n",
    "    print(\"Test accuracy: %.1f%%\" % accuracy(test_prediction.eval(), test_labels))"
   ]
  },
  {
   "cell_type": "markdown",
   "metadata": {},
   "source": [
    "**Problem: How about we change the number of neurons in the hidden layer?**"
   ]
  },
  {
   "cell_type": "markdown",
   "metadata": {},
   "source": [
    "Now we build a neural network with 2 hidden layers. "
   ]
  },
  {
   "cell_type": "code",
   "execution_count": 22,
   "metadata": {
    "collapsed": false
   },
   "outputs": [],
   "source": [
    "batch_size = 128\n",
    "hidden_layer_1_size = 300\n",
    "hidden_layer_2_size = 200\n",
    "\n",
    "graph = tf.Graph()\n",
    "with graph.as_default():\n",
    "#     Prepare the data\n",
    "    tf_train_dataset = tf.placeholder(tf.float32, shape=(batch_size, image_size*image_size))\n",
    "    tf_train_labels = tf.placeholder(tf.float32, shape=(batch_size, num_labels))\n",
    "    \n",
    "    tf_valid_dataset = tf.constant(valid_dataset)\n",
    "    tf_test_dataset = tf.constant(test_dataset)\n",
    "    \n",
    "    hidden_layer_1_weights = tf.Variable(\n",
    "        tf.truncated_normal([image_size*image_size, hidden_layer_1_size]))\n",
    "    hidden_layer_1_biases = tf.Variable(tf.zeros([hidden_layer_1_size]))\n",
    "    \n",
    "    hidden_layer_1 = tf.nn.relu(tf.matmul(tf_train_dataset, hidden_layer_1_weights) + hidden_layer_1_biases)\n",
    "    \n",
    "    hidden_layer_2_weights = tf.Variable(\n",
    "        tf.truncated_normal([hidden_layer_1_size, hidden_layer_2_size]))\n",
    "    hidden_layer_2_biases = tf.Variable(tf.zeros([hidden_layer_2_size]))\n",
    "    hidden_layer_2 = tf.nn.relu(tf.matmul(hidden_layer_1, hidden_layer_2_weights) + hidden_layer_2_biases)\n",
    "    \n",
    "    output_weights = tf.Variable(\n",
    "        tf.truncated_normal([hidden_layer_2_size, num_labels]))\n",
    "    output_biases = tf.Variable(tf.zeros([num_labels]))\n",
    "    logits = tf.matmul(hidden_layer_2, output_weights) + output_biases\n",
    "        \n",
    "    loss = tf.reduce_mean(\n",
    "        tf.nn.softmax_cross_entropy_with_logits(logits, tf_train_labels))\n",
    "\n",
    "    optimizer = tf.train.GradientDescentOptimizer(0.00001).minimize(loss)    \n",
    "    train_prediction = tf.nn.softmax(logits)\n",
    "    \n",
    "    validation_hidden_layer_1 = tf.nn.relu(tf.matmul(tf_valid_dataset, hidden_layer_1_weights) + hidden_layer_1_biases)\n",
    "    validation_hidden_layer_2 = tf.nn.relu(tf.matmul(validation_hidden_layer_1, hidden_layer_2_weights) + hidden_layer_2_biases)\n",
    "\n",
    "    validation_logits = tf.matmul(validation_hidden_layer_2, output_weights) + output_biases\n",
    "    valid_prediction = tf.nn.softmax(validation_logits)\n",
    "\n",
    "    \n",
    "    test_hidden_layer_1 = tf.nn.relu(tf.matmul(tf_test_dataset, hidden_layer_1_weights) + hidden_layer_1_biases)\n",
    "    test_hidden_layer_2 = tf.nn.relu(tf.matmul(test_hidden_layer_1, hidden_layer_2_weights) + hidden_layer_2_biases)\n",
    "\n",
    "    test_logits = tf.matmul(test_hidden_layer_2, output_weights) + output_biases\n",
    "    test_prediction = tf.nn.softmax(test_logits)"
   ]
  },
  {
   "cell_type": "code",
   "execution_count": 25,
   "metadata": {
    "collapsed": false
   },
   "outputs": [
    {
     "name": "stdout",
     "output_type": "stream",
     "text": [
      "Minibatch loss at step 0: 1479.637573\n",
      "Minibatch accuracy: 8.6%\n",
      "Validation accuracy: 10.8%\n",
      "\n",
      "Minibatch loss at step 500: 827.644592\n",
      "Minibatch accuracy: 16.4%\n",
      "Validation accuracy: 16.3%\n",
      "\n",
      "Minibatch loss at step 1000: 789.449829\n",
      "Minibatch accuracy: 16.4%\n",
      "Validation accuracy: 21.0%\n",
      "\n",
      "Minibatch loss at step 1500: 529.038696\n",
      "Minibatch accuracy: 23.4%\n",
      "Validation accuracy: 28.5%\n",
      "\n",
      "Minibatch loss at step 2000: 474.534515\n",
      "Minibatch accuracy: 34.4%\n",
      "Validation accuracy: 32.4%\n",
      "\n",
      "Minibatch loss at step 2500: 440.469238\n",
      "Minibatch accuracy: 43.0%\n",
      "Validation accuracy: 37.1%\n",
      "\n",
      "Minibatch loss at step 3000: 467.283600\n",
      "Minibatch accuracy: 35.2%\n",
      "Validation accuracy: 41.2%\n",
      "\n",
      "Minibatch loss at step 3500: 335.178467\n",
      "Minibatch accuracy: 45.3%\n",
      "Validation accuracy: 44.7%\n",
      "\n",
      "Minibatch loss at step 4000: 346.005554\n",
      "Minibatch accuracy: 46.1%\n",
      "Validation accuracy: 47.4%\n",
      "\n",
      "Minibatch loss at step 4500: 355.823730\n",
      "Minibatch accuracy: 40.6%\n",
      "Validation accuracy: 49.5%\n",
      "\n",
      "Minibatch loss at step 5000: 318.232056\n",
      "Minibatch accuracy: 50.0%\n",
      "Validation accuracy: 51.6%\n",
      "\n",
      "Minibatch loss at step 5500: 324.276123\n",
      "Minibatch accuracy: 57.0%\n",
      "Validation accuracy: 53.1%\n",
      "\n",
      "Minibatch loss at step 6000: 323.865326\n",
      "Minibatch accuracy: 50.8%\n",
      "Validation accuracy: 54.7%\n",
      "\n",
      "Minibatch loss at step 6500: 272.849030\n",
      "Minibatch accuracy: 53.1%\n",
      "Validation accuracy: 56.0%\n",
      "\n",
      "Minibatch loss at step 7000: 239.526886\n",
      "Minibatch accuracy: 56.2%\n",
      "Validation accuracy: 58.0%\n",
      "\n",
      "Minibatch loss at step 7500: 281.474060\n",
      "Minibatch accuracy: 58.6%\n",
      "Validation accuracy: 59.2%\n",
      "\n",
      "Minibatch loss at step 8000: 245.427933\n",
      "Minibatch accuracy: 56.2%\n",
      "Validation accuracy: 60.1%\n",
      "\n",
      "Minibatch loss at step 8500: 246.592514\n",
      "Minibatch accuracy: 59.4%\n",
      "Validation accuracy: 61.0%\n",
      "\n",
      "Minibatch loss at step 9000: 241.910812\n",
      "Minibatch accuracy: 60.9%\n",
      "Validation accuracy: 61.3%\n",
      "\n",
      "Minibatch loss at step 9500: 259.328796\n",
      "Minibatch accuracy: 55.5%\n",
      "Validation accuracy: 62.0%\n",
      "\n",
      "Minibatch loss at step 10000: 240.458954\n",
      "Minibatch accuracy: 58.6%\n",
      "Validation accuracy: 62.8%\n",
      "\n",
      "Minibatch loss at step 10500: 289.412964\n",
      "Minibatch accuracy: 57.0%\n",
      "Validation accuracy: 63.4%\n",
      "\n",
      "Minibatch loss at step 11000: 222.721436\n",
      "Minibatch accuracy: 62.5%\n",
      "Validation accuracy: 63.7%\n",
      "\n",
      "Minibatch loss at step 11500: 226.034592\n",
      "Minibatch accuracy: 62.5%\n",
      "Validation accuracy: 64.1%\n",
      "\n",
      "Minibatch loss at step 12000: 183.299622\n",
      "Minibatch accuracy: 68.0%\n",
      "Validation accuracy: 64.5%\n",
      "\n",
      "Minibatch loss at step 12500: 259.412811\n",
      "Minibatch accuracy: 64.8%\n",
      "Validation accuracy: 64.6%\n",
      "\n",
      "Minibatch loss at step 13000: 201.796661\n",
      "Minibatch accuracy: 60.9%\n",
      "Validation accuracy: 64.8%\n",
      "\n",
      "Minibatch loss at step 13500: 231.479858\n",
      "Minibatch accuracy: 64.1%\n",
      "Validation accuracy: 64.9%\n",
      "\n",
      "Minibatch loss at step 14000: 201.401932\n",
      "Minibatch accuracy: 65.6%\n",
      "Validation accuracy: 65.1%\n",
      "\n",
      "Minibatch loss at step 14500: 228.089050\n",
      "Minibatch accuracy: 66.4%\n",
      "Validation accuracy: 65.5%\n",
      "\n",
      "Minibatch loss at step 15000: 195.566849\n",
      "Minibatch accuracy: 70.3%\n",
      "Validation accuracy: 66.2%\n",
      "\n",
      "Minibatch loss at step 15500: 171.640823\n",
      "Minibatch accuracy: 66.4%\n",
      "Validation accuracy: 66.4%\n",
      "\n",
      "Minibatch loss at step 16000: 164.246582\n",
      "Minibatch accuracy: 64.8%\n",
      "Validation accuracy: 66.9%\n",
      "\n",
      "Minibatch loss at step 16500: 184.799469\n",
      "Minibatch accuracy: 67.2%\n",
      "Validation accuracy: 67.1%\n",
      "\n",
      "Minibatch loss at step 17000: 207.211472\n",
      "Minibatch accuracy: 64.8%\n",
      "Validation accuracy: 67.3%\n",
      "\n",
      "Minibatch loss at step 17500: 190.539490\n",
      "Minibatch accuracy: 66.4%\n",
      "Validation accuracy: 67.5%\n",
      "\n",
      "Minibatch loss at step 18000: 202.034180\n",
      "Minibatch accuracy: 67.2%\n",
      "Validation accuracy: 67.6%\n",
      "\n",
      "Minibatch loss at step 18500: 220.968628\n",
      "Minibatch accuracy: 61.7%\n",
      "Validation accuracy: 67.7%\n",
      "\n",
      "Minibatch loss at step 19000: 195.267899\n",
      "Minibatch accuracy: 73.4%\n",
      "Validation accuracy: 68.2%\n",
      "\n",
      "Minibatch loss at step 19500: 191.898697\n",
      "Minibatch accuracy: 63.3%\n",
      "Validation accuracy: 68.3%\n",
      "\n",
      "Minibatch loss at step 20000: 182.829712\n",
      "Minibatch accuracy: 70.3%\n",
      "Validation accuracy: 68.6%\n",
      "\n",
      "\n",
      "Test accuracy: 74.2%\n"
     ]
    }
   ],
   "source": [
    "num_steps = 20001\n",
    "\n",
    "with(tf.Session(graph=graph)) as sess:\n",
    "    tf.initialize_all_variables().run()\n",
    "    for step in range(num_steps):\n",
    "        offset = (step * batch_size) % (train_labels.shape[0] - batch_size)\n",
    "        \n",
    "        batch_data = train_dataset[offset:(offset + batch_size), :]\n",
    "        batch_labels = train_labels[offset:(offset + batch_size), :]\n",
    "        feed_dict = {tf_train_dataset : batch_data, tf_train_labels : batch_labels}\n",
    "        \n",
    "        _, l, predictions = sess.run(\n",
    "          [optimizer, loss, train_prediction], feed_dict=feed_dict)\n",
    "        if (step % 500 == 0):\n",
    "          print(\"Minibatch loss at step %d: %f\" % (step, l))\n",
    "          print(\"Minibatch accuracy: %.1f%%\" % accuracy(predictions, batch_labels))\n",
    "          print(\"Validation accuracy: %.1f%%\\n\" % accuracy(\n",
    "            valid_prediction.eval(), valid_labels))\n",
    "    print()\n",
    "    print(\"Test accuracy: %.1f%%\" % accuracy(test_prediction.eval(), test_labels))"
   ]
  },
  {
   "cell_type": "code",
   "execution_count": null,
   "metadata": {
    "collapsed": true
   },
   "outputs": [],
   "source": []
  }
 ],
 "metadata": {
  "kernelspec": {
   "display_name": "Python (tensorflow)",
   "language": "python",
   "name": "tensorflow"
  },
  "language_info": {
   "codemirror_mode": {
    "name": "ipython",
    "version": 2
   },
   "file_extension": ".py",
   "mimetype": "text/x-python",
   "name": "python",
   "nbconvert_exporter": "python",
   "pygments_lexer": "ipython2",
   "version": "2.7.12"
  }
 },
 "nbformat": 4,
 "nbformat_minor": 1
}
